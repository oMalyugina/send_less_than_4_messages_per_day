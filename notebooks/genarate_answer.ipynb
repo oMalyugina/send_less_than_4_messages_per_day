{
 "cells": [
  {
   "cell_type": "code",
   "execution_count": 1,
   "id": "6bc3837f-bb40-4153-8b56-8e2f874afff3",
   "metadata": {},
   "outputs": [],
   "source": [
    "import pandas as pd\n",
    "import datetime\n",
    "import numpy as np\n",
    "from collections import defaultdict\n",
    "from typing import List, Dict"
   ]
  },
  {
   "cell_type": "code",
   "execution_count": 2,
   "id": "0e0334be-0a03-4482-a0ec-c54804239e42",
   "metadata": {},
   "outputs": [],
   "source": [
    "data = pd.read_csv(\"../data/notifications.csv\", names=[\"timestamp\", \"to_id\", \"from_id\", \"from_name\"])"
   ]
  },
  {
   "cell_type": "code",
   "execution_count": 3,
   "id": "de7b2763-8c0a-4b77-a6f5-abe191d431be",
   "metadata": {},
   "outputs": [],
   "source": [
    "time_format = '%Y-%m-%d  %H:%M:%S'\n",
    "data[\"timestamp\"] = data[\"timestamp\"].apply(lambda string: datetime.datetime.strptime(string, time_format))\n",
    "data.sort_values(by=\"timestamp\", inplace=True)"
   ]
  },
  {
   "cell_type": "code",
   "execution_count": 4,
   "id": "a67ceeec-d6fc-4d01-b763-0e92f4146556",
   "metadata": {},
   "outputs": [],
   "source": [
    "def send(messages_to_send: Dict[str, List[dict]], time_when_print: datetime.datetime) -> List[List]:\n",
    "    rows_in_csv = []\n",
    "    for to_id, messages in messages_to_send.items():\n",
    "        if len(messages) == 0:\n",
    "            continue\n",
    "        if len(messages) == 1:\n",
    "            string = f\"{messages[0]['from_name']} went on a tour\"\n",
    "        elif len(messages) == 2:\n",
    "            string = f\"{messages[0]['from_name']} and {len(messages) - 1} other went on a tour\"\n",
    "        else:\n",
    "            string = f\"{messages[0]['from_name']} and {len(messages) - 1} others went on a tour\"\n",
    "        row_to_answer = [time_when_print.strftime(time_format), messages[0][\"time\"].strftime(time_format),\n",
    "                         len(messages), to_id, string]\n",
    "        rows_in_csv.append(row_to_answer)\n",
    "    return rows_in_csv"
   ]
  },
  {
   "cell_type": "code",
   "execution_count": 5,
   "id": "fde0ac40-f2f6-49bb-b49c-0785fa1ff781",
   "metadata": {},
   "outputs": [
    {
     "name": "stderr",
     "output_type": "stream",
     "text": [
      "/var/folders/gd/scvpylb17pq64d56gxlfshx00000gn/T/ipykernel_45603/3523966252.py:5: SettingWithCopyWarning: \n",
      "A value is trying to be set on a copy of a slice from a DataFrame.\n",
      "Try using .loc[row_indexer,col_indexer] = value instead\n",
      "\n",
      "See the caveats in the documentation: https://pandas.pydata.org/pandas-docs/stable/user_guide/indexing.html#returning-a-view-versus-a-copy\n",
      "  train[\"date\"] = train[\"timestamp\"].apply(lambda dt: dt.date())\n"
     ]
    }
   ],
   "source": [
    "ration = int(0.8 * len(data))\n",
    "train = data[:ration]\n",
    "mean_freq = {}\n",
    "min_number = {}\n",
    "train[\"date\"] = train[\"timestamp\"].apply(lambda dt: dt.date())\n",
    "for user_id, group in train.groupby([\"to_id\"]):\n",
    "    mail_pro_day = group.groupby([\"date\"]).size().values\n",
    "    # print(mail_pro_day)\n",
    "    mean_freq[user_id] = np.mean(mail_pro_day)\n",
    "    min_number[user_id] = np.min(mail_pro_day)"
   ]
  },
  {
   "cell_type": "code",
   "execution_count": 6,
   "id": "f86bbdce-5663-45ef-be60-8729dead8453",
   "metadata": {},
   "outputs": [],
   "source": [
    "# method4\n",
    "printed_today = defaultdict(lambda: 0)\n",
    "next_dt = datetime.datetime(year=2017, month=8, day=1, hour=22, minute=0, second=0)\n",
    "answer = []\n",
    "messages_to_send = defaultdict(list)\n",
    "\n",
    "for row in data.to_dict(orient=\"records\"):\n",
    "    if row['timestamp'] > next_dt:\n",
    "        answer.extend(send(messages_to_send, next_dt))\n",
    "        next_dt += datetime.timedelta(days=1)\n",
    "        messages_to_send = defaultdict(list)\n",
    "        printed_today = defaultdict(lambda: 0)\n",
    "\n",
    "    current_id = row[\"to_id\"]\n",
    "    if printed_today[current_id] == 3:\n",
    "        messages_to_send[current_id].append(\n",
    "            {\"from_id\": row['from_id'], \"time\": row['timestamp'], \"from_name\": row['from_name']})\n",
    "        continue\n",
    "    if current_id not in mean_freq or mean_freq[current_id] < 3:\n",
    "        dict_to_send = {\n",
    "            current_id: [{\"from_id\": row['from_id'], \"time\": row['timestamp'], \"from_name\": row['from_name']}]}\n",
    "        answer.extend(send(dict_to_send, row['timestamp']))\n",
    "        printed_today[current_id] += 1\n",
    "    else:\n",
    "        messages_to_send[current_id].append(\n",
    "            {\"from_id\": row['from_id'], \"time\": row['timestamp'], \"from_name\": row['from_name']})\n",
    "        if len(messages_to_send[current_id]) > mean_freq[current_id] / 4:\n",
    "            dict_to_send = {current_id: messages_to_send[current_id]}\n",
    "            answer.extend(send(dict_to_send, row['timestamp']))\n",
    "            messages_to_send[current_id] = []\n",
    "            printed_today[current_id] += 1\n",
    "\n",
    "answer.extend(send(messages_to_send, next_dt))\n"
   ]
  },
  {
   "cell_type": "code",
   "execution_count": 7,
   "id": "dd74dce6-a962-4578-b511-4ed282ad4fcc",
   "metadata": {},
   "outputs": [],
   "source": [
    "answer = pd.DataFrame(answer, columns=[\"notification_sent\", \"timestamp_first_tour\", \"tours\", \"receiver_id\", \"message\"])"
   ]
  },
  {
   "cell_type": "code",
   "execution_count": 8,
   "id": "8f4af966-3cfe-442a-be3b-06b99bc3245f",
   "metadata": {},
   "outputs": [],
   "source": [
    "assert sum(answer.tours.values) == len(data)"
   ]
  },
  {
   "cell_type": "code",
   "execution_count": 9,
   "id": "106caec2-3d5e-4fce-b225-f4102dfdc8cb",
   "metadata": {},
   "outputs": [],
   "source": [
    "answer.to_csv(\"../data/malyugin_answer.csv\", index=False)"
   ]
  }
 ],
 "metadata": {
  "kernelspec": {
   "display_name": "Python 3 (ipykernel)",
   "language": "python",
   "name": "python3"
  },
  "language_info": {
   "codemirror_mode": {
    "name": "ipython",
    "version": 3
   },
   "file_extension": ".py",
   "mimetype": "text/x-python",
   "name": "python",
   "nbconvert_exporter": "python",
   "pygments_lexer": "ipython3",
   "version": "3.9.7"
  }
 },
 "nbformat": 4,
 "nbformat_minor": 5
}
