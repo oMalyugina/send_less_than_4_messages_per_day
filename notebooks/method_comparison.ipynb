{
 "cells": [
  {
   "cell_type": "raw",
   "id": "74eb0e8e-cba0-45a9-80a2-b11e8a9100aa",
   "metadata": {},
   "source": [
    "metrics:\n",
    "[min(delays), max(delays), np.mean(delays), np.std(delays), sum(delays)]\n",
    "all metrics in min\n",
    "\n",
    "\n",
    "method1: send every 6 hours:0, 6, 12, 18, 24, 6\n",
    "train\n",
    "0.0 359.98333333333335 178.21318266234766 101.623008902421 48139835.96666432\n",
    "test\n",
    "0.0 359.98333333333335 169.0914773736895 99.54536291377828 11419085.650000133\n",
    "\n",
    "method2: send every 4th quantile. 0.0 10.42, 14.21, 17.18\n",
    "train\n",
    "0.0 641.8333333333334 150.95725670214406 114.42157469080145 40777328.96666395\n",
    "test\n",
    "0.0 638.95 144.08653157021857 112.78327682518554 9730451.650000026\n",
    "\n",
    "method4: diff strategy for users who get a lot of messages and small number of messages\n",
    "train\n",
    "0.0 1398.45 129.53087872898348 208.529217951061 34989528.616669096\n",
    "test\n",
    "0.0 1436.1666666666667 135.99350505439395 207.76295273585418 9183913.38333403\n",
    "\n"
   ]
  },
  {
   "cell_type": "code",
   "execution_count": 1,
   "id": "f5f79988-5344-4bb5-9eb8-e1af9b401880",
   "metadata": {},
   "outputs": [],
   "source": [
    "import pandas as pd\n",
    "import datetime\n",
    "import numpy as np\n",
    "from collections import defaultdict\n",
    "from typing import List"
   ]
  },
  {
   "cell_type": "code",
   "execution_count": 2,
   "id": "eca0db3b-6f67-4976-afe8-ffffd5f0e965",
   "metadata": {},
   "outputs": [],
   "source": [
    "data = pd.read_csv(\"../data/notifications.csv\", names=[\"timestamp\", \"to_id\", \"from_id\", \"from_name\"])"
   ]
  },
  {
   "cell_type": "code",
   "execution_count": 3,
   "id": "7b2cc20f-da8f-4a7a-ba9a-8cdbd249fa0f",
   "metadata": {},
   "outputs": [],
   "source": [
    "data[\"timestamp\"] = data[\"timestamp\"].apply(lambda string: datetime.datetime.strptime(string, '%Y-%m-%d  %H:%M:%S'))\n",
    "data.sort_values(by=\"timestamp\", inplace=True)"
   ]
  },
  {
   "cell_type": "code",
   "execution_count": 4,
   "id": "c0be8f6c-10b3-4b7d-aeca-d7696325f92d",
   "metadata": {},
   "outputs": [],
   "source": [
    "ration = int(0.8 * len(data))\n",
    "train = data[:ration]\n",
    "test = data[ration:]"
   ]
  },
  {
   "cell_type": "code",
   "execution_count": 5,
   "id": "24bb568c-25b1-4424-bb75-92fcefe3c290",
   "metadata": {},
   "outputs": [],
   "source": [
    "res = pd.DataFrame(columns=[\"method\", \"dataset\", \"min\", \"max\", \"mean\", \"std\", \"sum\"])"
   ]
  },
  {
   "cell_type": "code",
   "execution_count": 6,
   "id": "a6562d9c-2bd4-48b5-9854-cc874b6a724f",
   "metadata": {},
   "outputs": [],
   "source": [
    "def send(messages_to_send: List[dict], time_when_print: datetime.datetime) -> List[datetime.timedelta]:\n",
    "    delays = []\n",
    "    for message in messages_to_send:\n",
    "        delay = (time_when_print - message[\"time\"]).seconds\n",
    "        delays.append(delay)\n",
    "    return delays\n",
    "\n",
    "\n",
    "def print_stats(delays):\n",
    "    delays = [delay / 60 for delay in delays]\n",
    "    print(min(delays), max(delays), np.mean(delays), np.std(delays), sum(delays))\n",
    "    return [min(delays), max(delays), np.mean(delays), np.std(delays), sum(delays)]"
   ]
  },
  {
   "cell_type": "code",
   "execution_count": 7,
   "id": "11a1fec7-f0e6-4e49-9692-5061b756c948",
   "metadata": {},
   "outputs": [
    {
     "name": "stdout",
     "output_type": "stream",
     "text": [
      "0.0 359.98333333333335 169.0914773736895 99.54536291377828 11419085.650000133\n"
     ]
    }
   ],
   "source": [
    "#method11\n",
    "#I collect all notifications for 6 hours and send them at 00:00, 6:00, 12:00, 18:00.\n",
    "print_delta = datetime.timedelta(hours=6)\n",
    "time_to_print = datetime.datetime(year=2017, month=8, day=1, hour=6, minute=0, second=0)\n",
    "\n",
    "delays = []\n",
    "messages_to_send = []\n",
    "for row in test.to_dict(orient=\"records\"):\n",
    "    while row['timestamp'] > time_to_print:\n",
    "        delays.extend(send(messages_to_send, time_to_print))\n",
    "        messages_to_send = []\n",
    "        time_to_print += print_delta\n",
    "    messages_to_send.append({\"from_id\": row['from_id'], \"time\": row['timestamp'], \"from_name\": row['from_name']})\n",
    "delays.extend(send(messages_to_send, time_to_print))\n",
    "\n",
    "delay_stats = print_stats(delays)\n",
    "row_for_pandas = [\"every 6\", \"test\"]\n",
    "row_for_pandas.extend(delay_stats)\n",
    "res.loc[res.size] = row_for_pandas"
   ]
  },
  {
   "cell_type": "code",
   "execution_count": 8,
   "id": "16796e6d-273c-4f54-96f4-66f70a19b123",
   "metadata": {},
   "outputs": [
    {
     "name": "stdout",
     "output_type": "stream",
     "text": [
      "0.0 638.95 144.08653157021857 112.78327682518554 9730451.650000026\n"
     ]
    }
   ],
   "source": [
    "#method2\n",
    "#I computed quantiles for messages times and send notifications to users 4 times pro day at 00:00, 10:42, 14:21, 17:18\n",
    "def next_time_to_print(start_day: datetime.date) -> datetime.datetime:\n",
    "    current_day = start_day\n",
    "    print_time = [datetime.time(hour=0, minute=0), datetime.time(hour=10, minute=42), datetime.time(hour=14, minute=21),\n",
    "                  datetime.time(hour=17, minute=18)]\n",
    "    i = -1\n",
    "    while True:\n",
    "        i += 1\n",
    "        if i == len(print_time):\n",
    "            i = 0\n",
    "            current_day += datetime.timedelta(days=1)\n",
    "        yield datetime.datetime.combine(current_day, print_time[i])\n",
    "\n",
    "\n",
    "time_gen = next_time_to_print(train.iloc[0].timestamp.date())\n",
    "time_to_print = next(time_gen)\n",
    "\n",
    "delays = []\n",
    "messages_to_send = []\n",
    "for row in test.to_dict(orient=\"records\"):\n",
    "    while row['timestamp'] > time_to_print:\n",
    "        delays.extend(send(messages_to_send, time_to_print))\n",
    "        messages_to_send = []\n",
    "        time_to_print = next(time_gen)\n",
    "    messages_to_send.append({\"from_id\": row['from_id'], \"time\": row['timestamp'], \"from_name\": row['from_name']})\n",
    "delays.extend(send(messages_to_send, time_to_print))\n",
    "\n",
    "delay_stats = print_stats(delays)\n",
    "row_for_pandas = [\"every quantile\", \"test\"]\n",
    "row_for_pandas.extend(delay_stats)\n",
    "res.loc[res.size] = row_for_pandas"
   ]
  },
  {
   "cell_type": "code",
   "execution_count": 9,
   "id": "2dd0972e-ed2d-4849-94a6-369bcbce9ac2",
   "metadata": {},
   "outputs": [
    {
     "name": "stderr",
     "output_type": "stream",
     "text": [
      "/var/folders/gd/scvpylb17pq64d56gxlfshx00000gn/T/ipykernel_45572/2037082049.py:3: SettingWithCopyWarning: \n",
      "A value is trying to be set on a copy of a slice from a DataFrame.\n",
      "Try using .loc[row_indexer,col_indexer] = value instead\n",
      "\n",
      "See the caveats in the documentation: https://pandas.pydata.org/pandas-docs/stable/user_guide/indexing.html#returning-a-view-versus-a-copy\n",
      "  train[\"date\"] = train[\"timestamp\"].apply(lambda dt: dt.date())\n"
     ]
    }
   ],
   "source": [
    "mean_freq = {}\n",
    "min_number = {}\n",
    "train[\"date\"] = train[\"timestamp\"].apply(lambda dt: dt.date())\n",
    "for user_id, group in train.groupby([\"to_id\"]):\n",
    "    mail_pro_day = group.groupby([\"date\"]).size().values\n",
    "    # print(mail_pro_day)\n",
    "    mean_freq[user_id] = np.mean(mail_pro_day)\n",
    "    min_number[user_id] = np.min(mail_pro_day)\n"
   ]
  },
  {
   "cell_type": "code",
   "execution_count": 10,
   "id": "063a5ee0-e594-4bdd-85f1-a889bdfab277",
   "metadata": {},
   "outputs": [
    {
     "name": "stdout",
     "output_type": "stream",
     "text": [
      "0.0 1436.1666666666667 135.99350505439395 207.76295273585418 9183913.38333403\n"
     ]
    }
   ],
   "source": [
    "# method4\n",
    "# There is a lot of users who get less than 4 messages pro day.\n",
    "# I compute mean number of messages for every user. If this mean is less than 3 I send 3 first messages immediately.\n",
    "# If mean is more or equal than 3, I wait before I collect several messages for user and send them.\n",
    "# All unsent messages I send in the evening.\n",
    "printed_today = defaultdict(lambda: 0)\n",
    "next_dt = datetime.datetime(year=2017, month=8, day=1, hour=22, minute=0, second=0)\n",
    "delays = []\n",
    "messages_to_send = defaultdict(list)\n",
    "\n",
    "for row in test.to_dict(orient=\"records\"):\n",
    "    if row['timestamp'] > next_dt:\n",
    "        for id, messages in messages_to_send.items():\n",
    "            delays.extend(send(messages, next_dt))\n",
    "        next_dt += datetime.timedelta(days=1)\n",
    "        messages_to_send = defaultdict(list)\n",
    "        printed_today = defaultdict(lambda: 0)\n",
    "\n",
    "    current_id = row[\"to_id\"]\n",
    "    if printed_today[current_id] == 3:\n",
    "        messages_to_send[row[\"to_id\"]].append(\n",
    "            {\"from_id\": row['from_id'], \"time\": row['timestamp'], \"from_name\": row['from_name']})\n",
    "        continue\n",
    "    if current_id not in mean_freq or mean_freq[current_id] < 3:\n",
    "        delays.extend(send([{\"from_id\": row['from_id'], \"time\": row['timestamp'], \"from_name\": row['from_name']}],\n",
    "                           row['timestamp']))\n",
    "        printed_today[current_id] += 1\n",
    "    else:\n",
    "        messages_to_send[current_id].append(\n",
    "            {\"from_id\": row['from_id'], \"time\": row['timestamp'], \"from_name\": row['from_name']})\n",
    "        if len(messages_to_send[current_id]) > mean_freq[current_id] / 4:\n",
    "            delays.extend(send(messages_to_send[current_id], row['timestamp']))\n",
    "            messages_to_send[current_id] = []\n",
    "            printed_today[current_id] += 1\n",
    "\n",
    "for id, messages in messages_to_send.items():\n",
    "    delays.extend(send(messages, next_dt))\n",
    "delay_stats = print_stats(delays)\n",
    "row_for_pandas = [\"strategy depends on to_id\", \"test\"]\n",
    "row_for_pandas.extend(delay_stats)\n",
    "res.loc[res.size] = row_for_pandas"
   ]
  },
  {
   "cell_type": "code",
   "execution_count": 11,
   "id": "f801b1ff-7c1f-46ef-81f4-cc332e01542f",
   "metadata": {},
   "outputs": [
    {
     "data": {
      "text/html": [
       "<div>\n",
       "<style scoped>\n",
       "    .dataframe tbody tr th:only-of-type {\n",
       "        vertical-align: middle;\n",
       "    }\n",
       "\n",
       "    .dataframe tbody tr th {\n",
       "        vertical-align: top;\n",
       "    }\n",
       "\n",
       "    .dataframe thead th {\n",
       "        text-align: right;\n",
       "    }\n",
       "</style>\n",
       "<table border=\"1\" class=\"dataframe\">\n",
       "  <thead>\n",
       "    <tr style=\"text-align: right;\">\n",
       "      <th></th>\n",
       "      <th>method</th>\n",
       "      <th>dataset</th>\n",
       "      <th>min</th>\n",
       "      <th>max</th>\n",
       "      <th>mean</th>\n",
       "      <th>std</th>\n",
       "      <th>sum</th>\n",
       "    </tr>\n",
       "  </thead>\n",
       "  <tbody>\n",
       "    <tr>\n",
       "      <th>0</th>\n",
       "      <td>every 6</td>\n",
       "      <td>test</td>\n",
       "      <td>0.0</td>\n",
       "      <td>359.983333</td>\n",
       "      <td>169.091477</td>\n",
       "      <td>99.545363</td>\n",
       "      <td>1.141909e+07</td>\n",
       "    </tr>\n",
       "    <tr>\n",
       "      <th>7</th>\n",
       "      <td>every quantile</td>\n",
       "      <td>test</td>\n",
       "      <td>0.0</td>\n",
       "      <td>638.950000</td>\n",
       "      <td>144.086532</td>\n",
       "      <td>112.783277</td>\n",
       "      <td>9.730452e+06</td>\n",
       "    </tr>\n",
       "    <tr>\n",
       "      <th>14</th>\n",
       "      <td>strategy depends on to_id</td>\n",
       "      <td>test</td>\n",
       "      <td>0.0</td>\n",
       "      <td>1436.166667</td>\n",
       "      <td>135.993505</td>\n",
       "      <td>207.762953</td>\n",
       "      <td>9.183913e+06</td>\n",
       "    </tr>\n",
       "  </tbody>\n",
       "</table>\n",
       "</div>"
      ],
      "text/plain": [
       "                       method dataset  min          max        mean  \\\n",
       "0                     every 6    test  0.0   359.983333  169.091477   \n",
       "7              every quantile    test  0.0   638.950000  144.086532   \n",
       "14  strategy depends on to_id    test  0.0  1436.166667  135.993505   \n",
       "\n",
       "           std           sum  \n",
       "0    99.545363  1.141909e+07  \n",
       "7   112.783277  9.730452e+06  \n",
       "14  207.762953  9.183913e+06  "
      ]
     },
     "execution_count": 11,
     "metadata": {},
     "output_type": "execute_result"
    }
   ],
   "source": [
    "res"
   ]
  }
 ],
 "metadata": {
  "kernelspec": {
   "display_name": "Python 3 (ipykernel)",
   "language": "python",
   "name": "python3"
  },
  "language_info": {
   "codemirror_mode": {
    "name": "ipython",
    "version": 3
   },
   "file_extension": ".py",
   "mimetype": "text/x-python",
   "name": "python",
   "nbconvert_exporter": "python",
   "pygments_lexer": "ipython3",
   "version": "3.9.7"
  }
 },
 "nbformat": 4,
 "nbformat_minor": 5
}
